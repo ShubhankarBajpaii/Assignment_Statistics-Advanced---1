{
  "nbformat": 4,
  "nbformat_minor": 0,
  "metadata": {
    "colab": {
      "provenance": []
    },
    "kernelspec": {
      "name": "python3",
      "display_name": "Python 3"
    },
    "language_info": {
      "name": "python"
    }
  },
  "cells": [
    {
      "cell_type": "markdown",
      "source": [
        "Assignment Code: DA-AG-006\n",
        "# Statistics Advanced - 1| Assignment"
      ],
      "metadata": {
        "id": "NMFZRtRSRUl8"
      }
    },
    {
      "cell_type": "markdown",
      "source": [
        "**Question 1:** What is a random variable in probability theory?\n",
        "\n",
        "**Answer:** a random variable is a variable whose possible values are determined by the outcome of a  random experiment.\n",
        "\n",
        "\n",
        "**Question 2:** What are the types of random variables?\n",
        "\n",
        "**Answer:** random  variables are of two types - discrete random variable and continuous random variable.\n",
        "\n",
        "\n",
        "**Question 3**: Explain the difference between discrete and continuous distributions.\n",
        "\n",
        "**Answer**:  A discrete distribution shows the probabilities of outcomes of a discrete random variable, which can take only specific, countable values.\n",
        "             \n",
        "             Example: Rolling a fair die\n",
        " \t       X={1,2,3,4,5,6}\n",
        "A continuous distribution shows the probabilities of outcomes of a continuous random variable, which can take any value within an interval.\n",
        "\n",
        "            Example: Time taken for a computer to start (say between 5 and 10 seconds).\n",
        "\n",
        "\n",
        "**Question 4**: What is a binomial distribution, and how is it used in probability?\n",
        "\n",
        "**Answer**: A binomial distribution is a type of discrete probability distribution that describes the number of successes in a fixed number of independent Bernoulli trials, where each trial has only two possible outcomes — success or failure.     \n",
        "\n",
        "**Question 5**: What is the standard normal distribution, and why is it important?\n",
        "\n",
        "**Answer**: The standard normal distribution is a special type of normal distribution that has a mean (μ) of 0 and a standard deviation (σ) of 1. It is a continuous probability distribution that is symmetric about the mean and follows the familiar bell-shaped curve. The total area under the curve equals 1, and most of the values lie close to the mean.\n",
        "\n",
        "It is important because any normal distribution can be converted into the standard normal distribution using the z-score formula:      z=(X−μ)/σ​\n",
        "\n",
        "**Question 6**: What is the Central Limit Theorem (CLT), and why is it critical in statistics?\n",
        "\n",
        "**Answer**:  The Central Limit Theorem (CLT) states that the distribution of sample means approaches a normal distribution as the sample size becomes large, regardless of the population’s original distribution.\n",
        "It is important because it allows hypothesis testing and confidence intervals, even when the data are not normally distributed.\n",
        "\n",
        "\n",
        "**Question 7**: What is the significance of confidence intervals in statistical analysis?\n",
        "\n",
        "**Answer**: A confidence interval gives a range of values within which the true population parameter (like mean or proportion) is likely to lie, based on sample data. It provides both an estimate and a measure of uncertainty.\n",
        "For example, a 95% confidence interval means we are 95% confident that the true value lies within that range.\n",
        "Confidence intervals are important because they show the precision and reliability of an estimate, rather than relying on a single point value.\n",
        "\n",
        "**Question 8**: What is the concept of expected value in a probability distribution?\n",
        "\n",
        "**Answer**: The expected value of a probability distribution is the average or mean value that a random variable is expected to take over many trials of an experiment.\n"
      ],
      "metadata": {
        "id": "dfPRmv9UOo5v"
      }
    },
    {
      "cell_type": "code",
      "source": [
        "# Q9: Write a Python program to generate 1000 random numbers from a normal distribution with mean = 50 and standard deviation = 5.\n",
        "#     Compute its mean and standard deviation using NumPy, and draw a histogram to visualize the distribution.\n",
        "\n",
        "import numpy as np\n",
        "import matplotlib.pyplot as plt\n",
        "\n",
        "\n",
        "mean = 50\n",
        "std_dev = 5\n",
        "num_samples = 1000\n",
        "\n",
        "\n",
        "data = np.random.normal(loc=mean, scale=std_dev, size=num_samples)\n",
        "\n",
        "# Compute mean and standard deviation\n",
        "calculated_mean = np.mean(data)\n",
        "calculated_std = np.std(data)\n",
        "\n",
        "print(f\"Calculated Mean: {calculated_mean:.2f}\")\n",
        "print(f\"Calculated Standard Deviation: {calculated_std:.2f}\")\n",
        "\n",
        "# Draw histogram\n",
        "plt.hist(data, bins=30, color='skyblue', edgecolor='black')\n",
        "plt.title('Histogram of Normally Distributed Data')\n",
        "plt.xlabel('Value')\n",
        "plt.ylabel('Frequency')\n",
        "plt.show()\n",
        "\n",
        "\n",
        "\n",
        "\n",
        "\n",
        "\n"
      ],
      "metadata": {
        "colab": {
          "base_uri": "https://localhost:8080/",
          "height": 507
        },
        "id": "or7sTh2QPem7",
        "outputId": "8c06c5c4-636b-470d-9e59-34aaee276563"
      },
      "execution_count": 1,
      "outputs": [
        {
          "output_type": "stream",
          "name": "stdout",
          "text": [
            "Calculated Mean: 49.76\n",
            "Calculated Standard Deviation: 5.00\n"
          ]
        },
        {
          "output_type": "display_data",
          "data": {
            "text/plain": [
              "<Figure size 640x480 with 1 Axes>"
            ],
            "image/png": "[encoded data removed]"
          },
          "metadata": {}
        }
      ]
    },
    {
      "cell_type": "code",
      "source": [
        "# Q10: You are working as a data analyst for a retail company. The company has\n",
        "#   collected daily sales data for 2 years and wants you to identify the overall sales trend.\n",
        "#   daily_sales = [220, 245, 210, 265, 230, 250, 260, 275, 240, 255,\n",
        "#   235, 260, 245, 250, 225, 270, 265, 255, 250, 260]\n",
        "#   ● Explain how you would apply the Central Limit Theorem to estimate the average sales\n",
        "#     with a 95% confidence interval.\n",
        "#   ● Write the Python code to compute the mean sales and its confidence interval.\n",
        "\n",
        "# Answer: To estimate the average daily sales with a 95% confidence interval:\n",
        "\n",
        "#       - Compute the sample mean and sample standard deviation of daily sales.\n",
        "\n",
        "#       - Use the CLT to assume the sampling distribution of the mean is approximately normal.\n",
        "\n",
        "#       - Compute the confidence interval\n",
        "\n",
        "import numpy as np\n",
        "from scipy import stats\n",
        "\n",
        "\n",
        "daily_sales = [220, 245, 210, 265, 230, 250, 260, 275, 240, 255,\n",
        "               235, 260, 245, 250, 225, 270, 265, 255, 250, 260]\n",
        "\n",
        "\n",
        "data = np.array(daily_sales)\n",
        "\n",
        "\n",
        "n = len(data)\n",
        "mean_sales = np.mean(data)\n",
        "std_sales = np.std(data, ddof=1)  # sample standard deviation\n",
        "\n",
        "\n",
        "z = 1.96         # for 95% confidence\n",
        "margin_error = z * (std_sales / np.sqrt(n))\n",
        "ci_lower = mean_sales - margin_error\n",
        "ci_upper = mean_sales + margin_error\n",
        "\n",
        "print(f\"Mean Daily Sales: {mean_sales:.2f}\")\n",
        "print(f\"95% Confidence Interval: ({ci_lower:.2f}, {ci_upper:.2f})\")\n"
      ],
      "metadata": {
        "colab": {
          "base_uri": "https://localhost:8080/"
        },
        "id": "TJuJdgdlP044",
        "outputId": "37ffe19d-5dfc-4619-c0be-c4c9ec27b538"
      },
      "execution_count": 2,
      "outputs": [
        {
          "output_type": "stream",
          "name": "stdout",
          "text": [
            "Mean Daily Sales: 248.25\n",
            "95% Confidence Interval: (240.68, 255.82)\n"
          ]
        }
      ]
    }
  ]
}